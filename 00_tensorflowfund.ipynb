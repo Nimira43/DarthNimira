{
  "nbformat": 4,
  "nbformat_minor": 0,
  "metadata": {
    "colab": {
      "provenance": [],
      "collapsed_sections": [],
      "authorship_tag": "ABX9TyMpa3xYtMS3zsRnOo+KEnlV",
      "include_colab_link": true
    },
    "kernelspec": {
      "name": "python3",
      "display_name": "Python 3"
    },
    "language_info": {
      "name": "python"
    }
  },
  "cells": [
    {
      "cell_type": "markdown",
      "metadata": {
        "id": "view-in-github",
        "colab_type": "text"
      },
      "source": [
        "<a href=\"https://colab.research.google.com/github/Nimira43/DarthNimira/blob/master/00_tensorflowfund.ipynb\" target=\"_parent\"><img src=\"https://colab.research.google.com/assets/colab-badge.svg\" alt=\"Open In Colab\"/></a>"
      ]
    },
    {
      "cell_type": "markdown",
      "source": [
        "# fundamentals of tensors in tensorflow\n",
        "\n",
        "#intro to tensors, getting info from tensors, manipulating tensors, numpy, using @t.function to speed things up, use TPU's."
      ],
      "metadata": {
        "id": "yuBs0V1ND4Eq"
      }
    },
    {
      "cell_type": "code",
      "source": [
        "import tensorflow as tf # import tensorflow\n",
        "print(tf.__version__)"
      ],
      "metadata": {
        "colab": {
          "base_uri": "https://localhost:8080/"
        },
        "id": "iXkyjxyXF-G5",
        "outputId": "c357220a-7768-4b43-a193-af6c60ac547e"
      },
      "execution_count": 1,
      "outputs": [
        {
          "output_type": "stream",
          "name": "stdout",
          "text": [
            "2.9.2\n"
          ]
        }
      ]
    },
    {
      "cell_type": "code",
      "source": [
        "scalar = tf.constant(7) # create tensors with tf.constant()\n",
        "scalar"
      ],
      "metadata": {
        "colab": {
          "base_uri": "https://localhost:8080/"
        },
        "id": "SsiLauh4GiCH",
        "outputId": "6de2a4bf-697c-4dd2-e0a7-a7acb081fc00"
      },
      "execution_count": 2,
      "outputs": [
        {
          "output_type": "execute_result",
          "data": {
            "text/plain": [
              "<tf.Tensor: shape=(), dtype=int32, numpy=7>"
            ]
          },
          "metadata": {},
          "execution_count": 2
        }
      ]
    },
    {
      "cell_type": "code",
      "source": [
        " scalar.ndim # check number of dimension of a tensor (ndim stands for number of dimensions)"
      ],
      "metadata": {
        "colab": {
          "base_uri": "https://localhost:8080/"
        },
        "id": "ifxjRUoLI8yb",
        "outputId": "5ae84c1c-9b9f-40ed-9917-f17fa3af6ce5"
      },
      "execution_count": 3,
      "outputs": [
        {
          "output_type": "execute_result",
          "data": {
            "text/plain": [
              "0"
            ]
          },
          "metadata": {},
          "execution_count": 3
        }
      ]
    },
    {
      "cell_type": "code",
      "source": [
        "vector = tf.constant([10, 10]) # create a vector\n",
        "vector"
      ],
      "metadata": {
        "colab": {
          "base_uri": "https://localhost:8080/"
        },
        "id": "i7WbgeTpKq01",
        "outputId": "dcc323f7-ff4c-45f4-8a34-2ef6429647a8"
      },
      "execution_count": 4,
      "outputs": [
        {
          "output_type": "execute_result",
          "data": {
            "text/plain": [
              "<tf.Tensor: shape=(2,), dtype=int32, numpy=array([10, 10], dtype=int32)>"
            ]
          },
          "metadata": {},
          "execution_count": 4
        }
      ]
    },
    {
      "cell_type": "code",
      "source": [
        "vector.ndim # check dimensions of vector"
      ],
      "metadata": {
        "colab": {
          "base_uri": "https://localhost:8080/"
        },
        "id": "5UDepZB_LVR2",
        "outputId": "500b1bb1-31f8-4001-ec96-63e54a314e8b"
      },
      "execution_count": 5,
      "outputs": [
        {
          "output_type": "execute_result",
          "data": {
            "text/plain": [
              "1"
            ]
          },
          "metadata": {},
          "execution_count": 5
        }
      ]
    },
    {
      "cell_type": "code",
      "source": [
        "matrix = tf.constant([[10, 7],\n",
        "                      [7,10]]) # create matrix (more than 1 dimension)\n",
        "                      "
      ],
      "metadata": {
        "id": "ojEdlNGhLiNa"
      },
      "execution_count": 6,
      "outputs": []
    },
    {
      "cell_type": "code",
      "source": [
        "matrix.ndim"
      ],
      "metadata": {
        "colab": {
          "base_uri": "https://localhost:8080/"
        },
        "id": "ilH64WOVMQA5",
        "outputId": "2c3ceb55-f983-4aef-c080-979d31eff9f9"
      },
      "execution_count": 7,
      "outputs": [
        {
          "output_type": "execute_result",
          "data": {
            "text/plain": [
              "2"
            ]
          },
          "metadata": {},
          "execution_count": 7
        }
      ]
    },
    {
      "cell_type": "code",
      "source": [
        "matrix"
      ],
      "metadata": {
        "colab": {
          "base_uri": "https://localhost:8080/"
        },
        "id": "v4iGsdUmMerO",
        "outputId": "e552ba97-ca7e-4331-beb4-2f7324655fee"
      },
      "execution_count": 8,
      "outputs": [
        {
          "output_type": "execute_result",
          "data": {
            "text/plain": [
              "<tf.Tensor: shape=(2, 2), dtype=int32, numpy=\n",
              "array([[10,  7],\n",
              "       [ 7, 10]], dtype=int32)>"
            ]
          },
          "metadata": {},
          "execution_count": 8
        }
      ]
    },
    {
      "cell_type": "code",
      "source": [
        "another_matrix = tf.constant([[10., 7.],\n",
        "                              [3., 2.],\n",
        "                              [8., 9.]], dtype=tf.float16) # another matrix with specified datatype\n",
        "another_matrix"
      ],
      "metadata": {
        "colab": {
          "base_uri": "https://localhost:8080/"
        },
        "id": "8rCR8I9yNLfV",
        "outputId": "6fc29b88-3c06-48fa-d5aa-f7e3d5b62e41"
      },
      "execution_count": 9,
      "outputs": [
        {
          "output_type": "execute_result",
          "data": {
            "text/plain": [
              "<tf.Tensor: shape=(3, 2), dtype=float16, numpy=\n",
              "array([[10.,  7.],\n",
              "       [ 3.,  2.],\n",
              "       [ 8.,  9.]], dtype=float16)>"
            ]
          },
          "metadata": {},
          "execution_count": 9
        }
      ]
    },
    {
      "cell_type": "code",
      "source": [
        "another_matrix.ndim"
      ],
      "metadata": {
        "colab": {
          "base_uri": "https://localhost:8080/"
        },
        "id": "-EzWSzeAN8sX",
        "outputId": "e5559dd1-f28e-4dfe-e8d4-c30e0721f3d6"
      },
      "execution_count": 10,
      "outputs": [
        {
          "output_type": "execute_result",
          "data": {
            "text/plain": [
              "2"
            ]
          },
          "metadata": {},
          "execution_count": 10
        }
      ]
    },
    {
      "cell_type": "code",
      "source": [
        "tensor = tf.constant([[[1, 2, 3],\n",
        "                       [4, 5, 6]],\n",
        "                      [[7, 8, 9],\n",
        "                       [10, 11, 12]],\n",
        "                      [[13, 14, 15],\n",
        "                       [16, 17, 18]]])\n",
        "tensor"
      ],
      "metadata": {
        "colab": {
          "base_uri": "https://localhost:8080/"
        },
        "id": "bpVpFcHgPGmq",
        "outputId": "71ac1bc0-a926-4b9a-bec3-d8d84096d087"
      },
      "execution_count": 11,
      "outputs": [
        {
          "output_type": "execute_result",
          "data": {
            "text/plain": [
              "<tf.Tensor: shape=(3, 2, 3), dtype=int32, numpy=\n",
              "array([[[ 1,  2,  3],\n",
              "        [ 4,  5,  6]],\n",
              "\n",
              "       [[ 7,  8,  9],\n",
              "        [10, 11, 12]],\n",
              "\n",
              "       [[13, 14, 15],\n",
              "        [16, 17, 18]]], dtype=int32)>"
            ]
          },
          "metadata": {},
          "execution_count": 11
        }
      ]
    },
    {
      "cell_type": "code",
      "source": [
        "tensor.ndim"
      ],
      "metadata": {
        "colab": {
          "base_uri": "https://localhost:8080/"
        },
        "id": "L57KxWDpQW4g",
        "outputId": "04de2d4a-27da-4c67-ed44-42306d852328"
      },
      "execution_count": 12,
      "outputs": [
        {
          "output_type": "execute_result",
          "data": {
            "text/plain": [
              "3"
            ]
          },
          "metadata": {},
          "execution_count": 12
        }
      ]
    },
    {
      "cell_type": "markdown",
      "source": [
        "scalar - single number\n",
        "\n",
        "vector - a number with direction (like wind speed and direction)\n",
        "\n",
        "matrix - 2 dimensional array\n",
        "\n",
        "tensor - an n dimensional array of number"
      ],
      "metadata": {
        "id": "dxscWSC_QqKD"
      }
    },
    {
      "cell_type": "code",
      "source": [],
      "metadata": {
        "id": "e0XDB7fqRbjA"
      },
      "execution_count": null,
      "outputs": []
    },
    {
      "cell_type": "markdown",
      "source": [
        "creating tensors with tf.Variable"
      ],
      "metadata": {
        "id": "MBDuzavnR_BK"
      }
    },
    {
      "cell_type": "code",
      "source": [
        "changeable_tensor = tf.Variable([10 , 7])\n",
        "unchangeable_tensor = tf.constant([10, 7])\n",
        "changeable_tensor, unchangeable_tensor"
      ],
      "metadata": {
        "colab": {
          "base_uri": "https://localhost:8080/"
        },
        "id": "2s-ehfhWSH1L",
        "outputId": "67b16f3a-7a90-4ad2-f5bb-715b5777394b"
      },
      "execution_count": 13,
      "outputs": [
        {
          "output_type": "execute_result",
          "data": {
            "text/plain": [
              "(<tf.Variable 'Variable:0' shape=(2,) dtype=int32, numpy=array([10,  7], dtype=int32)>,\n",
              " <tf.Tensor: shape=(2,), dtype=int32, numpy=array([10,  7], dtype=int32)>)"
            ]
          },
          "metadata": {},
          "execution_count": 13
        }
      ]
    },
    {
      "cell_type": "markdown",
      "source": [
        "change an element in changeable tensor"
      ],
      "metadata": {
        "id": "O7rBD00RaxhW"
      }
    },
    {
      "cell_type": "code",
      "source": [
        "changeable_tensor[0].assign(7)\n",
        "changeable_tensor"
      ],
      "metadata": {
        "colab": {
          "base_uri": "https://localhost:8080/"
        },
        "id": "sxetbm0qa5gk",
        "outputId": "eeadd537-c1fb-4ad3-bf40-2ef5f2f683b8"
      },
      "execution_count": 14,
      "outputs": [
        {
          "output_type": "execute_result",
          "data": {
            "text/plain": [
              "<tf.Variable 'Variable:0' shape=(2,) dtype=int32, numpy=array([7, 7], dtype=int32)>"
            ]
          },
          "metadata": {},
          "execution_count": 14
        }
      ]
    },
    {
      "cell_type": "code",
      "source": [
        "unchangeable_tensor[0].assign(7)\n",
        "unchangeable_tensor"
      ],
      "metadata": {
        "colab": {
          "base_uri": "https://localhost:8080/",
          "height": 304
        },
        "id": "mLWOfmpIdKfC",
        "outputId": "9bbfbf0b-0c81-4076-d7f1-71ae61e6f4ac"
      },
      "execution_count": 15,
      "outputs": [
        {
          "output_type": "error",
          "ename": "AttributeError",
          "evalue": "ignored",
          "traceback": [
            "\u001b[0;31m---------------------------------------------------------------------------\u001b[0m",
            "\u001b[0;31mAttributeError\u001b[0m                            Traceback (most recent call last)",
            "\u001b[0;32m<ipython-input-15-958e786d8d1f>\u001b[0m in \u001b[0;36m<module>\u001b[0;34m\u001b[0m\n\u001b[0;32m----> 1\u001b[0;31m \u001b[0munchangeable_tensor\u001b[0m\u001b[0;34m[\u001b[0m\u001b[0;36m0\u001b[0m\u001b[0;34m]\u001b[0m\u001b[0;34m.\u001b[0m\u001b[0massign\u001b[0m\u001b[0;34m(\u001b[0m\u001b[0;36m7\u001b[0m\u001b[0;34m)\u001b[0m\u001b[0;34m\u001b[0m\u001b[0;34m\u001b[0m\u001b[0m\n\u001b[0m\u001b[1;32m      2\u001b[0m \u001b[0munchangeable_tensor\u001b[0m\u001b[0;34m\u001b[0m\u001b[0;34m\u001b[0m\u001b[0m\n",
            "\u001b[0;32m/usr/local/lib/python3.7/dist-packages/tensorflow/python/framework/ops.py\u001b[0m in \u001b[0;36m__getattr__\u001b[0;34m(self, name)\u001b[0m\n\u001b[1;32m    444\u001b[0m         \u001b[0mnp_config\u001b[0m\u001b[0;34m.\u001b[0m\u001b[0menable_numpy_behavior\u001b[0m\u001b[0;34m(\u001b[0m\u001b[0;34m)\u001b[0m\u001b[0;34m\u001b[0m\u001b[0;34m\u001b[0m\u001b[0m\n\u001b[1;32m    445\u001b[0m       \"\"\")\n\u001b[0;32m--> 446\u001b[0;31m     \u001b[0mself\u001b[0m\u001b[0;34m.\u001b[0m\u001b[0m__getattribute__\u001b[0m\u001b[0;34m(\u001b[0m\u001b[0mname\u001b[0m\u001b[0;34m)\u001b[0m\u001b[0;34m\u001b[0m\u001b[0;34m\u001b[0m\u001b[0m\n\u001b[0m\u001b[1;32m    447\u001b[0m \u001b[0;34m\u001b[0m\u001b[0m\n\u001b[1;32m    448\u001b[0m   \u001b[0;34m@\u001b[0m\u001b[0mstaticmethod\u001b[0m\u001b[0;34m\u001b[0m\u001b[0;34m\u001b[0m\u001b[0m\n",
            "\u001b[0;31mAttributeError\u001b[0m: 'tensorflow.python.framework.ops.EagerTensor' object has no attribute 'assign'"
          ]
        }
      ]
    },
    {
      "cell_type": "markdown",
      "source": [
        "creating random tensors"
      ],
      "metadata": {
        "id": "We8wDFIkeSdu"
      }
    },
    {
      "cell_type": "code",
      "source": [
        "random_1 = tf.random.Generator.from_seed(42) # first random tensor (but same) and = set seed for reproducibility\n",
        "random_1 = random_1.normal(shape=(3, 2))\n",
        "random_2 = tf.random.Generator.from_seed(42)\n",
        "random_2 = random_2.normal(shape=(3, 2))\n",
        "\n",
        "random_1, random_2, random_1 == random_2 # are they equal?"
      ],
      "metadata": {
        "colab": {
          "base_uri": "https://localhost:8080/"
        },
        "id": "Aq_SO1LSeWo8",
        "outputId": "c22a8fbb-63f9-4263-a35b-c33f03a72818"
      },
      "execution_count": 20,
      "outputs": [
        {
          "output_type": "execute_result",
          "data": {
            "text/plain": [
              "(<tf.Tensor: shape=(3, 2), dtype=float32, numpy=\n",
              " array([[-0.7565803 , -0.06854702],\n",
              "        [ 0.07595026, -1.2573844 ],\n",
              "        [-0.23193763, -1.8107855 ]], dtype=float32)>,\n",
              " <tf.Tensor: shape=(3, 2), dtype=float32, numpy=\n",
              " array([[-0.7565803 , -0.06854702],\n",
              "        [ 0.07595026, -1.2573844 ],\n",
              "        [-0.23193763, -1.8107855 ]], dtype=float32)>,\n",
              " <tf.Tensor: shape=(3, 2), dtype=bool, numpy=\n",
              " array([[ True,  True],\n",
              "        [ True,  True],\n",
              "        [ True,  True]])>)"
            ]
          },
          "metadata": {},
          "execution_count": 20
        }
      ]
    },
    {
      "cell_type": "markdown",
      "source": [
        "the output above is dictated by the seed value"
      ],
      "metadata": {
        "id": "RNqzKc8xlICz"
      }
    },
    {
      "cell_type": "markdown",
      "source": [
        "shuffle the order of elements in a tensor to scramble list of data"
      ],
      "metadata": {
        "id": "nGzEgGGZlQxi"
      }
    },
    {
      "cell_type": "code",
      "source": [
        "not_shuffled = tf.constant([[10, 7],\n",
        "                            [3, 4],\n",
        "                            [2, 5]])\n",
        "tf.random.shuffle(not_shuffled) # shuffle non-shuffled tensor"
      ],
      "metadata": {
        "colab": {
          "base_uri": "https://localhost:8080/"
        },
        "id": "52SKkwyFlhSU",
        "outputId": "3ff46657-4c43-403e-8332-fb25e27ee855"
      },
      "execution_count": 25,
      "outputs": [
        {
          "output_type": "execute_result",
          "data": {
            "text/plain": [
              "<tf.Tensor: shape=(3, 2), dtype=int32, numpy=\n",
              "array([[ 2,  5],\n",
              "       [10,  7],\n",
              "       [ 3,  4]], dtype=int32)>"
            ]
          },
          "metadata": {},
          "execution_count": 25
        }
      ]
    },
    {
      "cell_type": "code",
      "source": [
        "tf.random.shuffle(not_shuffled)"
      ],
      "metadata": {
        "colab": {
          "base_uri": "https://localhost:8080/"
        },
        "id": "f7hX7VAzqivs",
        "outputId": "0933b016-cf09-4ed6-fe5b-7712291e46fa"
      },
      "execution_count": 26,
      "outputs": [
        {
          "output_type": "execute_result",
          "data": {
            "text/plain": [
              "<tf.Tensor: shape=(3, 2), dtype=int32, numpy=\n",
              "array([[ 2,  5],\n",
              "       [ 3,  4],\n",
              "       [10,  7]], dtype=int32)>"
            ]
          },
          "metadata": {},
          "execution_count": 26
        }
      ]
    },
    {
      "cell_type": "code",
      "source": [
        "tf.random.set_seed(42) # global seed\n",
        "tf.random.shuffle(not_shuffled, seed=42) # operational seed"
      ],
      "metadata": {
        "colab": {
          "base_uri": "https://localhost:8080/"
        },
        "id": "Yd4vyjwcq7FA",
        "outputId": "2fab4afa-ebd5-462a-b540-bdea8aea848a"
      },
      "execution_count": 32,
      "outputs": [
        {
          "output_type": "execute_result",
          "data": {
            "text/plain": [
              "<tf.Tensor: shape=(3, 2), dtype=int32, numpy=\n",
              "array([[10,  7],\n",
              "       [ 3,  4],\n",
              "       [ 2,  5]], dtype=int32)>"
            ]
          },
          "metadata": {},
          "execution_count": 32
        }
      ]
    },
    {
      "cell_type": "markdown",
      "source": [
        "random3 = tf.random.Generator.from_seed(7)\n",
        "random3 = random3.normal(shape=(3, 2))\n",
        "\n",
        "random3\n",
        "\n"
      ],
      "metadata": {
        "id": "PoODZ9RqtXRF"
      }
    },
    {
      "cell_type": "code",
      "source": [
        "random3 = tf.random.Generator.from_seed(27)\n",
        "random3 = random3.normal(shape=(8, 6, 7, 4))\n",
        "\n",
        "random3"
      ],
      "metadata": {
        "colab": {
          "base_uri": "https://localhost:8080/"
        },
        "id": "VXO7G4Cz1pfe",
        "outputId": "c14a1fbc-11bf-4b78-b736-4b02e49359fb"
      },
      "execution_count": 42,
      "outputs": [
        {
          "output_type": "execute_result",
          "data": {
            "text/plain": [
              "<tf.Tensor: shape=(8, 6, 7, 4), dtype=float32, numpy=\n",
              "array([[[[-1.2060374 ,  0.8307429 ,  1.0951619 ,  1.3672234 ],\n",
              "         [-0.54532146,  1.9302735 , -0.3151453 , -0.8761205 ],\n",
              "         [-2.7316678 , -0.15730922,  1.3692921 , -0.4367834 ],\n",
              "         ...,\n",
              "         [ 1.2232229 , -1.8653691 ,  0.00511209, -1.0493753 ],\n",
              "         [ 0.7901182 ,  1.585549  ,  0.4356279 ,  0.23645182],\n",
              "         [-0.1589871 ,  1.302304  ,  0.9592239 ,  0.85874265]],\n",
              "\n",
              "        [[-1.5181769 ,  1.4020647 ,  1.5570306 , -0.96762174],\n",
              "         [ 0.495291  , -0.648484  , -1.8700892 ,  2.7830641 ],\n",
              "         [-0.645002  ,  0.18022095, -0.14656258,  0.34374258],\n",
              "         ...,\n",
              "         [ 0.20386009,  0.562024  , -2.3001142 , -1.349454  ],\n",
              "         [ 0.81485   ,  1.2790666 ,  0.02203509,  1.5428121 ],\n",
              "         [ 0.78953624,  0.53897345, -0.48535708,  0.74055266]],\n",
              "\n",
              "        [[ 0.31662667, -1.4391748 ,  0.58923835, -1.4268045 ],\n",
              "         [-0.7565803 , -0.06854702,  0.07595026, -1.2573844 ],\n",
              "         [-0.23193763, -1.8107855 ,  0.09988727, -0.50998646],\n",
              "         ...,\n",
              "         [-0.3522796 ,  0.40621263, -1.0523509 ,  1.2054597 ],\n",
              "         [ 1.6874489 , -0.4462975 , -2.3410842 ,  0.99009085],\n",
              "         [-0.0876323 , -0.635568  , -0.6161736 , -1.9441465 ]],\n",
              "\n",
              "        [[-0.48293006, -0.52447474, -1.0345329 ,  1.3066901 ],\n",
              "         [-1.5184573 , -0.4585211 ,  0.5714663 , -1.5331722 ],\n",
              "         [ 0.45331386,  1.1487608 , -1.2659091 , -0.47450137],\n",
              "         ...,\n",
              "         [ 1.0034493 ,  0.20857747,  0.35700995,  1.0648885 ],\n",
              "         [ 1.2432485 , -2.2173238 ,  0.18706243,  0.6617961 ],\n",
              "         [ 0.01380118, -0.24827152,  1.2111493 , -0.7199124 ]],\n",
              "\n",
              "        [[-0.04082382,  2.6791053 ,  1.0914806 ,  0.33149615],\n",
              "         [-0.67958915,  0.44723678, -0.17811584,  0.24882518],\n",
              "         [ 0.49689844,  0.8259971 ,  1.0340209 , -0.24918637],\n",
              "         ...,\n",
              "         [-0.9465717 , -0.7108357 ,  1.2995545 , -0.6149066 ],\n",
              "         [-1.4713507 , -0.10086866,  0.9603877 , -1.6370124 ],\n",
              "         [ 0.17664973, -0.67038715, -0.503455  , -1.203792  ]],\n",
              "\n",
              "        [[-2.5255601 ,  0.05080947,  1.7212061 , -0.6575125 ],\n",
              "         [ 0.7939443 ,  1.3212339 ,  0.34584793, -0.6699328 ],\n",
              "         [ 0.4604257 ,  0.514933  , -0.06519881, -1.442522  ],\n",
              "         ...,\n",
              "         [ 0.5517507 , -0.3741098 , -0.28709963,  1.5089895 ],\n",
              "         [-0.14833727, -1.2846565 ,  0.5484313 ,  0.10596129],\n",
              "         [ 0.21793836,  0.7063839 , -0.19219153,  1.1390278 ]]],\n",
              "\n",
              "\n",
              "       [[[ 0.29164317,  1.4531525 , -0.8223833 , -1.3446563 ],\n",
              "         [-0.7183838 , -0.20373915,  0.6291725 , -0.87623316],\n",
              "         [-0.5923522 ,  0.05643526, -0.1698349 , -1.0965608 ],\n",
              "         ...,\n",
              "         [-1.1513817 ,  0.6533925 ,  1.2390149 ,  0.8852658 ],\n",
              "         [-0.67008066, -1.5614101 ,  0.6786617 , -1.0733451 ],\n",
              "         [-0.06093803, -0.99516404,  0.7279114 ,  1.3452564 ]],\n",
              "\n",
              "        [[ 0.89255804,  0.54797494, -0.9483233 , -0.14723077],\n",
              "         [-0.3514068 ,  0.47631496,  0.52696466,  0.7645016 ],\n",
              "         [-1.4084325 , -1.8613014 ,  1.0928144 , -0.29996362],\n",
              "         ...,\n",
              "         [ 0.32744762, -0.3579723 ,  1.230323  , -0.13087   ],\n",
              "         [-0.44519424,  0.9551449 ,  0.24270573, -0.02293015],\n",
              "         [-0.97063404, -0.7102746 ,  0.4939478 ,  2.1883757 ]],\n",
              "\n",
              "        [[-0.4953925 , -0.7584407 ,  0.13736533, -0.44198883],\n",
              "         [-0.65641224, -2.286797  ,  0.07126775,  2.3546813 ],\n",
              "         [ 2.2539537 , -0.8510308 ,  0.8119971 ,  2.0856276 ],\n",
              "         ...,\n",
              "         [ 0.01724745,  1.071573  ,  0.32903498, -0.12147247],\n",
              "         [-0.81168556,  1.0684562 ,  0.03192343,  0.37305453],\n",
              "         [ 0.67321086, -0.36336023, -0.42805162,  0.16644211]],\n",
              "\n",
              "        [[ 0.71163535,  0.20890734, -0.25753435, -0.59981036],\n",
              "         [-1.7857927 ,  0.0044825 ,  0.16218606, -2.2107327 ],\n",
              "         [-0.897285  ,  1.17089   , -0.70234615,  0.5083065 ],\n",
              "         ...,\n",
              "         [ 0.02657839, -1.0271724 ,  0.78655565,  0.28071532],\n",
              "         [ 1.5479943 , -0.62931514,  1.177553  ,  0.4957259 ],\n",
              "         [-0.02589307,  1.1928992 ,  1.7263643 ,  0.7151379 ]],\n",
              "\n",
              "        [[-1.0779938 , -1.1893024 ,  0.08200742, -0.16774543],\n",
              "         [-0.17259961, -0.5513397 , -0.24820912, -0.15571186],\n",
              "         [-0.9934515 ,  1.4369737 ,  1.1249138 ,  0.77698714],\n",
              "         ...,\n",
              "         [ 0.08036723, -1.7199678 , -0.6891769 ,  0.22862972],\n",
              "         [-0.69891334, -0.11101238, -0.44537356,  0.1335287 ],\n",
              "         [ 0.12417295,  0.96785086, -0.35425642, -0.8899504 ]],\n",
              "\n",
              "        [[ 0.6247422 , -0.7167875 ,  1.2657576 , -0.04759569],\n",
              "         [-0.19674648, -0.7370393 , -0.72737205, -0.76012224],\n",
              "         [-0.26312977,  0.54241335, -0.25226593,  0.43689874],\n",
              "         ...,\n",
              "         [-2.2454505 , -0.7396203 , -0.2343236 ,  0.8082244 ],\n",
              "         [-1.2844347 , -1.278413  ,  2.013582  ,  0.7836003 ],\n",
              "         [-0.06117551, -0.07672564, -0.24485688,  1.8566428 ]]],\n",
              "\n",
              "\n",
              "       [[[-0.6776444 ,  0.6394762 ,  1.4985782 , -1.0064988 ],\n",
              "         [-1.831529  ,  0.45663303, -0.49801934,  1.6521827 ],\n",
              "         [-0.7326468 , -0.6277212 ,  0.23591673, -0.5297533 ],\n",
              "         ...,\n",
              "         [-0.08876546, -0.2818856 , -1.2894468 ,  0.96435696],\n",
              "         [-0.6036719 , -1.071834  , -1.0722276 , -0.00586287],\n",
              "         [-0.88051033, -0.32426047, -2.4847078 , -0.26370478]],\n",
              "\n",
              "        [[-0.48833993,  0.8617591 , -1.1694205 , -0.5992111 ],\n",
              "         [-1.9464397 ,  0.7705366 , -1.3326514 , -0.38218573],\n",
              "         [-1.766121  ,  1.4853729 ,  0.15317559,  0.26729542],\n",
              "         ...,\n",
              "         [ 0.82159203,  0.6540846 ,  0.08996315, -2.073694  ],\n",
              "         [ 0.8673864 , -0.29899067, -0.9310337 , -1.5828488 ],\n",
              "         [ 1.2481191 , -0.6770643 ,  0.0191265 , -0.29333332]],\n",
              "\n",
              "        [[-0.35438988,  0.07048975, -0.4882456 , -0.56108433],\n",
              "         [-0.9890895 , -0.474985  , -1.3177569 , -1.7482879 ],\n",
              "         [-1.6292503 ,  0.48826352, -1.8867823 ,  0.18151656],\n",
              "         ...,\n",
              "         [-0.3702979 , -0.99169385,  0.07253284,  0.2959086 ],\n",
              "         [-0.31781763,  0.8365819 ,  1.44539   ,  0.5045312 ],\n",
              "         [-0.7224314 , -0.09014846,  0.12777153, -0.06497782]],\n",
              "\n",
              "        [[ 1.3639344 ,  1.5162361 , -0.5160658 , -1.5031487 ],\n",
              "         [ 0.78185356,  0.669054  ,  0.5000064 ,  0.7658164 ],\n",
              "         [-0.19813427,  1.1101567 ,  0.8233347 ,  2.454505  ],\n",
              "         ...,\n",
              "         [-0.25519267,  0.17281583,  2.6145976 ,  1.8622545 ],\n",
              "         [ 0.73743194, -0.0129986 ,  0.7771184 , -0.00960819],\n",
              "         [ 0.23179719, -0.3566502 ,  0.2631579 ,  0.6768518 ]],\n",
              "\n",
              "        [[ 0.5565707 ,  0.44276938, -1.0237199 ,  1.7124555 ],\n",
              "         [ 0.6112835 ,  0.97992486, -0.2288657 , -0.35827154],\n",
              "         [ 0.79976535, -1.2027831 , -0.80555516,  0.3574244 ],\n",
              "         ...,\n",
              "         [ 0.81038696, -1.915971  ,  0.77674466,  0.7285135 ],\n",
              "         [ 1.6453348 , -0.62385917, -3.0093665 ,  0.24699263],\n",
              "         [-1.2662416 ,  1.4435335 ,  1.6701231 ,  0.80882853]],\n",
              "\n",
              "        [[-0.30762148, -0.17802097, -0.15166   ,  0.05017854],\n",
              "         [-0.33411473, -0.31888655, -0.9834956 , -0.81987065],\n",
              "         [-0.6729547 , -0.41192538,  0.76766264,  0.56652683],\n",
              "         ...,\n",
              "         [-0.4884917 , -1.7098985 ,  0.7963727 , -1.9695035 ],\n",
              "         [ 0.9808784 , -1.5287447 , -0.28718686,  0.9083854 ],\n",
              "         [ 0.64412975,  1.0008438 , -2.6962886 , -1.0752867 ]]],\n",
              "\n",
              "\n",
              "       ...,\n",
              "\n",
              "\n",
              "       [[[ 1.5803431 , -1.5163175 , -1.3340821 , -0.34527022],\n",
              "         [ 1.4093482 ,  0.09789068,  2.083792  ,  0.5023335 ],\n",
              "         [-0.41757244, -0.2853961 ,  0.9510013 ,  1.0610793 ],\n",
              "         ...,\n",
              "         [-0.16272102, -0.94072485, -0.72931474,  2.4190352 ],\n",
              "         [ 0.31619713,  1.2444433 , -0.03126941, -0.7620684 ],\n",
              "         [ 0.7497965 ,  1.1466546 , -0.22539005,  0.82792515]],\n",
              "\n",
              "        [[ 0.36053374,  1.0116621 ,  0.14296533, -1.0269865 ],\n",
              "         [-0.6061013 , -0.35804814,  0.39586878,  0.960725  ],\n",
              "         [-1.0215961 , -0.92211574,  1.3876396 ,  0.23198044],\n",
              "         ...,\n",
              "         [-2.048724  ,  0.75642276,  0.6890647 , -1.0755924 ],\n",
              "         [ 0.11075592,  0.84823394, -0.25278994,  1.9206251 ],\n",
              "         [ 0.28755897, -0.5995689 , -0.96432054,  0.2030316 ]],\n",
              "\n",
              "        [[-0.47879514, -0.673436  ,  1.2044759 , -0.09356748],\n",
              "         [ 1.529748  ,  1.2703096 ,  1.6677649 , -0.06029034],\n",
              "         [ 0.64245635, -1.732084  ,  1.0453987 , -1.5038041 ],\n",
              "         ...,\n",
              "         [ 1.2416035 ,  1.5962636 , -0.31990913,  1.5207498 ],\n",
              "         [-1.0359411 ,  1.5315233 ,  0.51527184, -0.76588607],\n",
              "         [ 1.6272374 ,  0.04138071, -0.10412996,  0.79326314]],\n",
              "\n",
              "        [[-2.2773743 , -0.19333345,  1.1309195 , -0.5997879 ],\n",
              "         [ 0.13718261,  0.03654822,  1.0302736 ,  0.3396786 ],\n",
              "         [ 0.3991843 ,  0.8469337 ,  0.08197699, -0.33114555],\n",
              "         ...,\n",
              "         [-0.22350197,  0.14781399, -0.27838594,  0.70579576],\n",
              "         [-0.8142257 , -0.5233668 ,  0.52894944, -1.606629  ],\n",
              "         [-0.06351428, -2.465845  , -1.1038724 ,  0.5590708 ]],\n",
              "\n",
              "        [[-0.9807223 , -0.16120234,  1.0154027 ,  0.52378887],\n",
              "         [ 0.98307234,  0.34288085,  1.216793  , -1.24293   ],\n",
              "         [ 0.84324265, -0.23379943,  0.4276398 , -1.0215694 ],\n",
              "         ...,\n",
              "         [ 0.02671668,  0.76397264,  1.222406  ,  0.46577054],\n",
              "         [ 0.22190082,  0.6969936 ,  0.88429165,  0.24133337],\n",
              "         [-2.5008104 ,  1.9122622 , -0.04614453, -0.49720773]],\n",
              "\n",
              "        [[-0.5964569 , -0.28882292, -0.40181905, -0.7558858 ],\n",
              "         [ 0.02251886,  0.30204874, -0.5317571 ,  0.9396386 ],\n",
              "         [-0.38707992,  0.70385563,  1.0504125 ,  0.3237772 ],\n",
              "         ...,\n",
              "         [-0.33373326, -2.3113725 ,  0.6523717 , -1.0217607 ],\n",
              "         [-0.35029203,  0.6448506 ,  0.24116515, -0.11372148],\n",
              "         [-0.4213084 , -1.7177718 , -0.76177126, -0.71952176]]],\n",
              "\n",
              "\n",
              "       [[[-1.0015098 ,  1.4955608 , -1.927905  , -1.4905297 ],\n",
              "         [-1.9865798 , -0.19001041,  0.8487627 ,  0.82072085],\n",
              "         [-0.35690466, -1.0447663 ,  1.446608  , -0.84364986],\n",
              "         ...,\n",
              "         [ 0.1774636 ,  0.88809806, -1.5011514 , -0.43493605],\n",
              "         [ 0.05176501,  2.1976366 , -0.73987067, -0.3241145 ],\n",
              "         [ 0.6396319 ,  1.4745843 ,  0.21317784, -0.71089745]],\n",
              "\n",
              "        [[-0.7266791 ,  0.26493618, -0.2939757 , -0.9795847 ],\n",
              "         [-1.9638627 ,  1.049048  , -2.1287222 , -1.0401938 ],\n",
              "         [-1.3892945 ,  0.29629984,  0.37557378, -0.21287665],\n",
              "         ...,\n",
              "         [-1.5806351 , -0.29935524,  0.84522533, -0.882215  ],\n",
              "         [ 1.5174615 , -1.3613358 , -0.4253645 ,  0.7900614 ],\n",
              "         [ 1.332233  , -1.2405047 , -0.14593224, -1.1347312 ]],\n",
              "\n",
              "        [[-0.51403165,  0.8849615 ,  1.7944237 ,  0.43961513],\n",
              "         [ 0.2971437 ,  1.1784528 , -2.379891  ,  1.664779  ],\n",
              "         [-1.2015156 , -0.9672582 ,  1.1090761 ,  1.6242055 ],\n",
              "         ...,\n",
              "         [ 0.01141907, -2.003064  ,  0.10277833, -0.9348864 ],\n",
              "         [ 0.7093353 , -1.1928486 , -1.6602112 , -1.338707  ],\n",
              "         [ 1.0771363 ,  0.24153835,  0.18730612,  0.17394336]],\n",
              "\n",
              "        [[ 1.2626832 ,  3.0181563 ,  0.10381509, -0.4161028 ],\n",
              "         [-1.0959209 ,  1.5210041 ,  1.0378866 , -0.21576646],\n",
              "         [-1.4294671 ,  1.5209101 ,  0.96264595,  0.7560396 ],\n",
              "         ...,\n",
              "         [ 0.15654732,  0.10615379, -0.45561165,  1.69945   ],\n",
              "         [ 0.32171428,  0.62645096,  1.3242275 , -1.1928031 ],\n",
              "         [ 0.21420553, -0.11380079, -0.41897383,  0.23661454]],\n",
              "\n",
              "        [[-0.86901087, -1.3710753 , -0.99886703, -0.8188495 ],\n",
              "         [-2.0491517 ,  1.0570321 , -2.5273206 ,  1.861748  ],\n",
              "         [-0.12196856,  0.46930176,  1.0072736 , -0.9760802 ],\n",
              "         ...,\n",
              "         [-0.29896575,  1.3008425 ,  0.05443271, -1.3649665 ],\n",
              "         [ 0.5846695 ,  1.590681  ,  0.7343326 , -0.7077091 ],\n",
              "         [-0.8969618 , -1.7225893 ,  1.3476163 , -0.89545345]],\n",
              "\n",
              "        [[-1.3250933 , -0.83503646,  0.6803303 , -0.69420093],\n",
              "         [-0.46686223,  0.3872553 ,  0.07626719,  0.84447354],\n",
              "         [-0.46708682,  0.3040326 ,  1.3539944 , -0.35777435],\n",
              "         ...,\n",
              "         [-1.1691749 ,  0.54704034, -0.4856418 , -0.19519547],\n",
              "         [-0.83571035,  0.40317553, -0.2865457 , -0.19489379],\n",
              "         [ 0.15136592, -1.8838558 ,  1.3883139 , -1.0113807 ]]],\n",
              "\n",
              "\n",
              "       [[[ 0.93363506, -1.1654663 , -1.4466094 ,  0.16346605],\n",
              "         [ 0.5370981 ,  1.4272279 , -0.9052965 ,  2.089627  ],\n",
              "         [-0.2054475 , -0.5247956 , -0.5333458 , -0.32808995],\n",
              "         ...,\n",
              "         [-0.1455882 ,  0.47244102, -0.6284949 ,  0.38839826],\n",
              "         [ 1.8276811 , -0.32110527,  0.66303664,  0.44260108],\n",
              "         [ 0.83341855,  0.23780315, -1.2559606 ,  1.5515456 ]],\n",
              "\n",
              "        [[ 0.2209089 ,  0.77841544, -0.17545082,  0.7617905 ],\n",
              "         [-0.41406497, -2.2834349 , -0.6038851 , -0.08852839],\n",
              "         [-1.2040683 , -0.07581121,  0.05408475, -1.1403024 ],\n",
              "         ...,\n",
              "         [-0.5660935 , -0.25495797,  0.93636596,  1.0049014 ],\n",
              "         [ 2.0081668 , -1.0598114 ,  0.7848106 ,  1.0434687 ],\n",
              "         [-1.3925792 , -0.10465346, -0.86982596, -0.3311147 ]],\n",
              "\n",
              "        [[ 0.34896034, -0.8189588 ,  0.9353372 ,  0.7656226 ],\n",
              "         [ 0.39835712, -1.27006   ,  0.26527253,  0.8364661 ],\n",
              "         [ 0.85269576, -0.22714461,  1.2949007 ,  0.664861  ],\n",
              "         ...,\n",
              "         [ 0.5163272 ,  0.3698049 , -0.41299313,  0.9122452 ],\n",
              "         [-1.0661197 , -1.8173325 , -0.9018163 ,  0.4388048 ],\n",
              "         [ 1.0950547 , -1.0428714 , -0.73970354,  0.0177109 ]],\n",
              "\n",
              "        [[ 0.04888754, -0.66408694, -1.787366  ,  0.86979896],\n",
              "         [ 0.13474943,  0.5305573 ,  0.5820642 , -0.72277445],\n",
              "         [-0.5054207 ,  0.7694334 , -0.94055563, -2.11527   ],\n",
              "         ...,\n",
              "         [-0.1866372 ,  0.11994188,  0.34417796,  0.88542104],\n",
              "         [-0.5249761 , -0.3797743 , -0.3626551 , -0.1668443 ],\n",
              "         [-0.01824445,  1.229008  ,  1.5113504 , -0.57362217]],\n",
              "\n",
              "        [[ 0.06148814, -0.43045416, -0.04233417, -1.3867607 ],\n",
              "         [-1.276255  ,  0.01142067,  0.34232524,  1.9177431 ],\n",
              "         [ 1.5253149 , -0.6850233 , -0.16440418,  1.6418885 ],\n",
              "         ...,\n",
              "         [-0.521642  ,  0.29124102,  0.08992114,  0.16199932],\n",
              "         [-0.37672725,  3.125233  , -1.0035182 , -0.49028733],\n",
              "         [-0.38536316, -0.6494654 , -0.2194434 ,  0.11260496]],\n",
              "\n",
              "        [[ 1.0644903 ,  1.0103918 ,  0.75105935,  0.38403222],\n",
              "         [-0.02458693, -1.5912023 ,  1.1156634 ,  1.9814464 ],\n",
              "         [ 0.89021903,  1.1689645 ,  0.52925533, -0.7661878 ],\n",
              "         ...,\n",
              "         [-1.6129968 , -1.00864   ,  0.5273088 , -1.0737157 ],\n",
              "         [ 0.31372845,  0.26856473, -1.1717157 , -1.8535309 ],\n",
              "         [ 0.5138048 , -1.0754741 ,  1.2369027 ,  0.58675265]]]],\n",
              "      dtype=float32)>"
            ]
          },
          "metadata": {},
          "execution_count": 42
        }
      ]
    },
    {
      "cell_type": "code",
      "source": [
        "tf.random.set_seed(11)\n",
        "tf.random.shuffle(random3, seed=4)"
      ],
      "metadata": {
        "colab": {
          "base_uri": "https://localhost:8080/"
        },
        "id": "6bWf3Rne2ZIw",
        "outputId": "75b9c4fc-81f5-4993-87e0-3474cdb53b7a"
      },
      "execution_count": 43,
      "outputs": [
        {
          "output_type": "execute_result",
          "data": {
            "text/plain": [
              "<tf.Tensor: shape=(8, 6, 7, 4), dtype=float32, numpy=\n",
              "array([[[[ 1.493164  , -0.28871155,  0.31284064,  1.663845  ],\n",
              "         [-1.028107  , -0.60134953,  0.455365  ,  0.18552932],\n",
              "         [-2.0545108 , -1.7917832 , -0.781357  ,  1.7088543 ],\n",
              "         ...,\n",
              "         [ 0.89297235,  1.5463222 , -0.8302462 , -1.4948393 ],\n",
              "         [ 0.38628715, -1.2676666 ,  0.12750275,  0.12517293],\n",
              "         [ 0.3160493 , -1.3636322 ,  0.5770591 ,  0.30280197]],\n",
              "\n",
              "        [[-3.3228774 , -0.27568147,  0.24829084, -0.90035295],\n",
              "         [-2.2462475 , -0.45878425, -1.9838426 ,  1.0531965 ],\n",
              "         [ 0.16383527,  0.08420128, -0.35761365,  0.52944607],\n",
              "         ...,\n",
              "         [ 1.4299089 ,  1.1519113 ,  2.4963074 ,  0.7028313 ],\n",
              "         [-0.638703  ,  1.2545483 ,  0.15263537, -0.38345093],\n",
              "         [-0.1335102 ,  0.17139332, -0.21565591, -0.06827872]],\n",
              "\n",
              "        [[ 0.30605847, -0.7204267 ,  0.0638603 ,  0.749325  ],\n",
              "         [ 0.87557787,  1.3275943 , -0.79108816,  1.4859759 ],\n",
              "         [ 1.8666607 ,  0.7533293 ,  1.9076191 , -0.608725  ],\n",
              "         ...,\n",
              "         [ 1.2315764 ,  1.2378134 , -0.5333003 ,  0.5499724 ],\n",
              "         [ 0.8250944 ,  0.02531349,  1.0933133 , -1.0848625 ],\n",
              "         [ 0.5705757 ,  1.4181882 ,  0.3818096 , -2.1699402 ]],\n",
              "\n",
              "        [[ 0.25425676, -0.4321791 ,  1.1739746 ,  0.34979692],\n",
              "         [-0.3643946 , -3.1925747 ,  0.74550235,  1.6823604 ],\n",
              "         [ 1.0547173 ,  0.43973717, -1.5463331 , -0.2522205 ],\n",
              "         ...,\n",
              "         [ 0.53567237, -0.5886912 , -0.5933507 ,  0.9765769 ],\n",
              "         [-1.0644387 , -0.15964095,  0.20708817, -0.88769746],\n",
              "         [-0.4291407 ,  1.0496043 ,  0.85257185,  0.36788857]],\n",
              "\n",
              "        [[ 0.5011535 , -0.448121  ,  0.3995735 , -2.1588635 ],\n",
              "         [-0.16122076, -1.040813  ,  0.44564843, -1.1353635 ],\n",
              "         [ 0.06766166, -0.36882195,  0.74598795, -0.23114283],\n",
              "         ...,\n",
              "         [ 0.01515209, -0.5099852 , -1.6957084 ,  0.2771412 ],\n",
              "         [ 0.39587766, -1.4373472 , -0.7789885 ,  0.43568256],\n",
              "         [ 0.51676977,  0.5126531 , -1.1681564 , -0.57357186]],\n",
              "\n",
              "        [[-1.0469201 ,  1.206273  ,  1.3070114 ,  0.52296627],\n",
              "         [ 1.1305656 , -0.36720887, -0.40844494, -0.9370698 ],\n",
              "         [-0.75371194, -1.7472465 , -0.26269418,  0.3709909 ],\n",
              "         ...,\n",
              "         [-1.5306779 , -0.86202925, -0.16359143, -0.67677325],\n",
              "         [-0.79654586, -0.5771628 , -0.49702242,  2.0209744 ],\n",
              "         [-0.46608835,  0.9983581 ,  0.06456684,  0.45177236]]],\n",
              "\n",
              "\n",
              "       [[[-1.2060374 ,  0.8307429 ,  1.0951619 ,  1.3672234 ],\n",
              "         [-0.54532146,  1.9302735 , -0.3151453 , -0.8761205 ],\n",
              "         [-2.7316678 , -0.15730922,  1.3692921 , -0.4367834 ],\n",
              "         ...,\n",
              "         [ 1.2232229 , -1.8653691 ,  0.00511209, -1.0493753 ],\n",
              "         [ 0.7901182 ,  1.585549  ,  0.4356279 ,  0.23645182],\n",
              "         [-0.1589871 ,  1.302304  ,  0.9592239 ,  0.85874265]],\n",
              "\n",
              "        [[-1.5181769 ,  1.4020647 ,  1.5570306 , -0.96762174],\n",
              "         [ 0.495291  , -0.648484  , -1.8700892 ,  2.7830641 ],\n",
              "         [-0.645002  ,  0.18022095, -0.14656258,  0.34374258],\n",
              "         ...,\n",
              "         [ 0.20386009,  0.562024  , -2.3001142 , -1.349454  ],\n",
              "         [ 0.81485   ,  1.2790666 ,  0.02203509,  1.5428121 ],\n",
              "         [ 0.78953624,  0.53897345, -0.48535708,  0.74055266]],\n",
              "\n",
              "        [[ 0.31662667, -1.4391748 ,  0.58923835, -1.4268045 ],\n",
              "         [-0.7565803 , -0.06854702,  0.07595026, -1.2573844 ],\n",
              "         [-0.23193763, -1.8107855 ,  0.09988727, -0.50998646],\n",
              "         ...,\n",
              "         [-0.3522796 ,  0.40621263, -1.0523509 ,  1.2054597 ],\n",
              "         [ 1.6874489 , -0.4462975 , -2.3410842 ,  0.99009085],\n",
              "         [-0.0876323 , -0.635568  , -0.6161736 , -1.9441465 ]],\n",
              "\n",
              "        [[-0.48293006, -0.52447474, -1.0345329 ,  1.3066901 ],\n",
              "         [-1.5184573 , -0.4585211 ,  0.5714663 , -1.5331722 ],\n",
              "         [ 0.45331386,  1.1487608 , -1.2659091 , -0.47450137],\n",
              "         ...,\n",
              "         [ 1.0034493 ,  0.20857747,  0.35700995,  1.0648885 ],\n",
              "         [ 1.2432485 , -2.2173238 ,  0.18706243,  0.6617961 ],\n",
              "         [ 0.01380118, -0.24827152,  1.2111493 , -0.7199124 ]],\n",
              "\n",
              "        [[-0.04082382,  2.6791053 ,  1.0914806 ,  0.33149615],\n",
              "         [-0.67958915,  0.44723678, -0.17811584,  0.24882518],\n",
              "         [ 0.49689844,  0.8259971 ,  1.0340209 , -0.24918637],\n",
              "         ...,\n",
              "         [-0.9465717 , -0.7108357 ,  1.2995545 , -0.6149066 ],\n",
              "         [-1.4713507 , -0.10086866,  0.9603877 , -1.6370124 ],\n",
              "         [ 0.17664973, -0.67038715, -0.503455  , -1.203792  ]],\n",
              "\n",
              "        [[-2.5255601 ,  0.05080947,  1.7212061 , -0.6575125 ],\n",
              "         [ 0.7939443 ,  1.3212339 ,  0.34584793, -0.6699328 ],\n",
              "         [ 0.4604257 ,  0.514933  , -0.06519881, -1.442522  ],\n",
              "         ...,\n",
              "         [ 0.5517507 , -0.3741098 , -0.28709963,  1.5089895 ],\n",
              "         [-0.14833727, -1.2846565 ,  0.5484313 ,  0.10596129],\n",
              "         [ 0.21793836,  0.7063839 , -0.19219153,  1.1390278 ]]],\n",
              "\n",
              "\n",
              "       [[[ 0.93363506, -1.1654663 , -1.4466094 ,  0.16346605],\n",
              "         [ 0.5370981 ,  1.4272279 , -0.9052965 ,  2.089627  ],\n",
              "         [-0.2054475 , -0.5247956 , -0.5333458 , -0.32808995],\n",
              "         ...,\n",
              "         [-0.1455882 ,  0.47244102, -0.6284949 ,  0.38839826],\n",
              "         [ 1.8276811 , -0.32110527,  0.66303664,  0.44260108],\n",
              "         [ 0.83341855,  0.23780315, -1.2559606 ,  1.5515456 ]],\n",
              "\n",
              "        [[ 0.2209089 ,  0.77841544, -0.17545082,  0.7617905 ],\n",
              "         [-0.41406497, -2.2834349 , -0.6038851 , -0.08852839],\n",
              "         [-1.2040683 , -0.07581121,  0.05408475, -1.1403024 ],\n",
              "         ...,\n",
              "         [-0.5660935 , -0.25495797,  0.93636596,  1.0049014 ],\n",
              "         [ 2.0081668 , -1.0598114 ,  0.7848106 ,  1.0434687 ],\n",
              "         [-1.3925792 , -0.10465346, -0.86982596, -0.3311147 ]],\n",
              "\n",
              "        [[ 0.34896034, -0.8189588 ,  0.9353372 ,  0.7656226 ],\n",
              "         [ 0.39835712, -1.27006   ,  0.26527253,  0.8364661 ],\n",
              "         [ 0.85269576, -0.22714461,  1.2949007 ,  0.664861  ],\n",
              "         ...,\n",
              "         [ 0.5163272 ,  0.3698049 , -0.41299313,  0.9122452 ],\n",
              "         [-1.0661197 , -1.8173325 , -0.9018163 ,  0.4388048 ],\n",
              "         [ 1.0950547 , -1.0428714 , -0.73970354,  0.0177109 ]],\n",
              "\n",
              "        [[ 0.04888754, -0.66408694, -1.787366  ,  0.86979896],\n",
              "         [ 0.13474943,  0.5305573 ,  0.5820642 , -0.72277445],\n",
              "         [-0.5054207 ,  0.7694334 , -0.94055563, -2.11527   ],\n",
              "         ...,\n",
              "         [-0.1866372 ,  0.11994188,  0.34417796,  0.88542104],\n",
              "         [-0.5249761 , -0.3797743 , -0.3626551 , -0.1668443 ],\n",
              "         [-0.01824445,  1.229008  ,  1.5113504 , -0.57362217]],\n",
              "\n",
              "        [[ 0.06148814, -0.43045416, -0.04233417, -1.3867607 ],\n",
              "         [-1.276255  ,  0.01142067,  0.34232524,  1.9177431 ],\n",
              "         [ 1.5253149 , -0.6850233 , -0.16440418,  1.6418885 ],\n",
              "         ...,\n",
              "         [-0.521642  ,  0.29124102,  0.08992114,  0.16199932],\n",
              "         [-0.37672725,  3.125233  , -1.0035182 , -0.49028733],\n",
              "         [-0.38536316, -0.6494654 , -0.2194434 ,  0.11260496]],\n",
              "\n",
              "        [[ 1.0644903 ,  1.0103918 ,  0.75105935,  0.38403222],\n",
              "         [-0.02458693, -1.5912023 ,  1.1156634 ,  1.9814464 ],\n",
              "         [ 0.89021903,  1.1689645 ,  0.52925533, -0.7661878 ],\n",
              "         ...,\n",
              "         [-1.6129968 , -1.00864   ,  0.5273088 , -1.0737157 ],\n",
              "         [ 0.31372845,  0.26856473, -1.1717157 , -1.8535309 ],\n",
              "         [ 0.5138048 , -1.0754741 ,  1.2369027 ,  0.58675265]]],\n",
              "\n",
              "\n",
              "       ...,\n",
              "\n",
              "\n",
              "       [[[ 1.5803431 , -1.5163175 , -1.3340821 , -0.34527022],\n",
              "         [ 1.4093482 ,  0.09789068,  2.083792  ,  0.5023335 ],\n",
              "         [-0.41757244, -0.2853961 ,  0.9510013 ,  1.0610793 ],\n",
              "         ...,\n",
              "         [-0.16272102, -0.94072485, -0.72931474,  2.4190352 ],\n",
              "         [ 0.31619713,  1.2444433 , -0.03126941, -0.7620684 ],\n",
              "         [ 0.7497965 ,  1.1466546 , -0.22539005,  0.82792515]],\n",
              "\n",
              "        [[ 0.36053374,  1.0116621 ,  0.14296533, -1.0269865 ],\n",
              "         [-0.6061013 , -0.35804814,  0.39586878,  0.960725  ],\n",
              "         [-1.0215961 , -0.92211574,  1.3876396 ,  0.23198044],\n",
              "         ...,\n",
              "         [-2.048724  ,  0.75642276,  0.6890647 , -1.0755924 ],\n",
              "         [ 0.11075592,  0.84823394, -0.25278994,  1.9206251 ],\n",
              "         [ 0.28755897, -0.5995689 , -0.96432054,  0.2030316 ]],\n",
              "\n",
              "        [[-0.47879514, -0.673436  ,  1.2044759 , -0.09356748],\n",
              "         [ 1.529748  ,  1.2703096 ,  1.6677649 , -0.06029034],\n",
              "         [ 0.64245635, -1.732084  ,  1.0453987 , -1.5038041 ],\n",
              "         ...,\n",
              "         [ 1.2416035 ,  1.5962636 , -0.31990913,  1.5207498 ],\n",
              "         [-1.0359411 ,  1.5315233 ,  0.51527184, -0.76588607],\n",
              "         [ 1.6272374 ,  0.04138071, -0.10412996,  0.79326314]],\n",
              "\n",
              "        [[-2.2773743 , -0.19333345,  1.1309195 , -0.5997879 ],\n",
              "         [ 0.13718261,  0.03654822,  1.0302736 ,  0.3396786 ],\n",
              "         [ 0.3991843 ,  0.8469337 ,  0.08197699, -0.33114555],\n",
              "         ...,\n",
              "         [-0.22350197,  0.14781399, -0.27838594,  0.70579576],\n",
              "         [-0.8142257 , -0.5233668 ,  0.52894944, -1.606629  ],\n",
              "         [-0.06351428, -2.465845  , -1.1038724 ,  0.5590708 ]],\n",
              "\n",
              "        [[-0.9807223 , -0.16120234,  1.0154027 ,  0.52378887],\n",
              "         [ 0.98307234,  0.34288085,  1.216793  , -1.24293   ],\n",
              "         [ 0.84324265, -0.23379943,  0.4276398 , -1.0215694 ],\n",
              "         ...,\n",
              "         [ 0.02671668,  0.76397264,  1.222406  ,  0.46577054],\n",
              "         [ 0.22190082,  0.6969936 ,  0.88429165,  0.24133337],\n",
              "         [-2.5008104 ,  1.9122622 , -0.04614453, -0.49720773]],\n",
              "\n",
              "        [[-0.5964569 , -0.28882292, -0.40181905, -0.7558858 ],\n",
              "         [ 0.02251886,  0.30204874, -0.5317571 ,  0.9396386 ],\n",
              "         [-0.38707992,  0.70385563,  1.0504125 ,  0.3237772 ],\n",
              "         ...,\n",
              "         [-0.33373326, -2.3113725 ,  0.6523717 , -1.0217607 ],\n",
              "         [-0.35029203,  0.6448506 ,  0.24116515, -0.11372148],\n",
              "         [-0.4213084 , -1.7177718 , -0.76177126, -0.71952176]]],\n",
              "\n",
              "\n",
              "       [[[ 0.29164317,  1.4531525 , -0.8223833 , -1.3446563 ],\n",
              "         [-0.7183838 , -0.20373915,  0.6291725 , -0.87623316],\n",
              "         [-0.5923522 ,  0.05643526, -0.1698349 , -1.0965608 ],\n",
              "         ...,\n",
              "         [-1.1513817 ,  0.6533925 ,  1.2390149 ,  0.8852658 ],\n",
              "         [-0.67008066, -1.5614101 ,  0.6786617 , -1.0733451 ],\n",
              "         [-0.06093803, -0.99516404,  0.7279114 ,  1.3452564 ]],\n",
              "\n",
              "        [[ 0.89255804,  0.54797494, -0.9483233 , -0.14723077],\n",
              "         [-0.3514068 ,  0.47631496,  0.52696466,  0.7645016 ],\n",
              "         [-1.4084325 , -1.8613014 ,  1.0928144 , -0.29996362],\n",
              "         ...,\n",
              "         [ 0.32744762, -0.3579723 ,  1.230323  , -0.13087   ],\n",
              "         [-0.44519424,  0.9551449 ,  0.24270573, -0.02293015],\n",
              "         [-0.97063404, -0.7102746 ,  0.4939478 ,  2.1883757 ]],\n",
              "\n",
              "        [[-0.4953925 , -0.7584407 ,  0.13736533, -0.44198883],\n",
              "         [-0.65641224, -2.286797  ,  0.07126775,  2.3546813 ],\n",
              "         [ 2.2539537 , -0.8510308 ,  0.8119971 ,  2.0856276 ],\n",
              "         ...,\n",
              "         [ 0.01724745,  1.071573  ,  0.32903498, -0.12147247],\n",
              "         [-0.81168556,  1.0684562 ,  0.03192343,  0.37305453],\n",
              "         [ 0.67321086, -0.36336023, -0.42805162,  0.16644211]],\n",
              "\n",
              "        [[ 0.71163535,  0.20890734, -0.25753435, -0.59981036],\n",
              "         [-1.7857927 ,  0.0044825 ,  0.16218606, -2.2107327 ],\n",
              "         [-0.897285  ,  1.17089   , -0.70234615,  0.5083065 ],\n",
              "         ...,\n",
              "         [ 0.02657839, -1.0271724 ,  0.78655565,  0.28071532],\n",
              "         [ 1.5479943 , -0.62931514,  1.177553  ,  0.4957259 ],\n",
              "         [-0.02589307,  1.1928992 ,  1.7263643 ,  0.7151379 ]],\n",
              "\n",
              "        [[-1.0779938 , -1.1893024 ,  0.08200742, -0.16774543],\n",
              "         [-0.17259961, -0.5513397 , -0.24820912, -0.15571186],\n",
              "         [-0.9934515 ,  1.4369737 ,  1.1249138 ,  0.77698714],\n",
              "         ...,\n",
              "         [ 0.08036723, -1.7199678 , -0.6891769 ,  0.22862972],\n",
              "         [-0.69891334, -0.11101238, -0.44537356,  0.1335287 ],\n",
              "         [ 0.12417295,  0.96785086, -0.35425642, -0.8899504 ]],\n",
              "\n",
              "        [[ 0.6247422 , -0.7167875 ,  1.2657576 , -0.04759569],\n",
              "         [-0.19674648, -0.7370393 , -0.72737205, -0.76012224],\n",
              "         [-0.26312977,  0.54241335, -0.25226593,  0.43689874],\n",
              "         ...,\n",
              "         [-2.2454505 , -0.7396203 , -0.2343236 ,  0.8082244 ],\n",
              "         [-1.2844347 , -1.278413  ,  2.013582  ,  0.7836003 ],\n",
              "         [-0.06117551, -0.07672564, -0.24485688,  1.8566428 ]]],\n",
              "\n",
              "\n",
              "       [[[-1.0015098 ,  1.4955608 , -1.927905  , -1.4905297 ],\n",
              "         [-1.9865798 , -0.19001041,  0.8487627 ,  0.82072085],\n",
              "         [-0.35690466, -1.0447663 ,  1.446608  , -0.84364986],\n",
              "         ...,\n",
              "         [ 0.1774636 ,  0.88809806, -1.5011514 , -0.43493605],\n",
              "         [ 0.05176501,  2.1976366 , -0.73987067, -0.3241145 ],\n",
              "         [ 0.6396319 ,  1.4745843 ,  0.21317784, -0.71089745]],\n",
              "\n",
              "        [[-0.7266791 ,  0.26493618, -0.2939757 , -0.9795847 ],\n",
              "         [-1.9638627 ,  1.049048  , -2.1287222 , -1.0401938 ],\n",
              "         [-1.3892945 ,  0.29629984,  0.37557378, -0.21287665],\n",
              "         ...,\n",
              "         [-1.5806351 , -0.29935524,  0.84522533, -0.882215  ],\n",
              "         [ 1.5174615 , -1.3613358 , -0.4253645 ,  0.7900614 ],\n",
              "         [ 1.332233  , -1.2405047 , -0.14593224, -1.1347312 ]],\n",
              "\n",
              "        [[-0.51403165,  0.8849615 ,  1.7944237 ,  0.43961513],\n",
              "         [ 0.2971437 ,  1.1784528 , -2.379891  ,  1.664779  ],\n",
              "         [-1.2015156 , -0.9672582 ,  1.1090761 ,  1.6242055 ],\n",
              "         ...,\n",
              "         [ 0.01141907, -2.003064  ,  0.10277833, -0.9348864 ],\n",
              "         [ 0.7093353 , -1.1928486 , -1.6602112 , -1.338707  ],\n",
              "         [ 1.0771363 ,  0.24153835,  0.18730612,  0.17394336]],\n",
              "\n",
              "        [[ 1.2626832 ,  3.0181563 ,  0.10381509, -0.4161028 ],\n",
              "         [-1.0959209 ,  1.5210041 ,  1.0378866 , -0.21576646],\n",
              "         [-1.4294671 ,  1.5209101 ,  0.96264595,  0.7560396 ],\n",
              "         ...,\n",
              "         [ 0.15654732,  0.10615379, -0.45561165,  1.69945   ],\n",
              "         [ 0.32171428,  0.62645096,  1.3242275 , -1.1928031 ],\n",
              "         [ 0.21420553, -0.11380079, -0.41897383,  0.23661454]],\n",
              "\n",
              "        [[-0.86901087, -1.3710753 , -0.99886703, -0.8188495 ],\n",
              "         [-2.0491517 ,  1.0570321 , -2.5273206 ,  1.861748  ],\n",
              "         [-0.12196856,  0.46930176,  1.0072736 , -0.9760802 ],\n",
              "         ...,\n",
              "         [-0.29896575,  1.3008425 ,  0.05443271, -1.3649665 ],\n",
              "         [ 0.5846695 ,  1.590681  ,  0.7343326 , -0.7077091 ],\n",
              "         [-0.8969618 , -1.7225893 ,  1.3476163 , -0.89545345]],\n",
              "\n",
              "        [[-1.3250933 , -0.83503646,  0.6803303 , -0.69420093],\n",
              "         [-0.46686223,  0.3872553 ,  0.07626719,  0.84447354],\n",
              "         [-0.46708682,  0.3040326 ,  1.3539944 , -0.35777435],\n",
              "         ...,\n",
              "         [-1.1691749 ,  0.54704034, -0.4856418 , -0.19519547],\n",
              "         [-0.83571035,  0.40317553, -0.2865457 , -0.19489379],\n",
              "         [ 0.15136592, -1.8838558 ,  1.3883139 , -1.0113807 ]]]],\n",
              "      dtype=float32)>"
            ]
          },
          "metadata": {},
          "execution_count": 43
        }
      ]
    },
    {
      "cell_type": "markdown",
      "source": [
        "other ways to make tensors"
      ],
      "metadata": {
        "id": "P8A2Sxsy7V9p"
      }
    },
    {
      "cell_type": "code",
      "source": [
        "tf.ones([10, 7]) # create tensor of all ones"
      ],
      "metadata": {
        "colab": {
          "base_uri": "https://localhost:8080/"
        },
        "id": "eEZJzNsV7a3l",
        "outputId": "766ddd96-9426-4cde-d63b-27bb30961acd"
      },
      "execution_count": 44,
      "outputs": [
        {
          "output_type": "execute_result",
          "data": {
            "text/plain": [
              "<tf.Tensor: shape=(10, 7), dtype=float32, numpy=\n",
              "array([[1., 1., 1., 1., 1., 1., 1.],\n",
              "       [1., 1., 1., 1., 1., 1., 1.],\n",
              "       [1., 1., 1., 1., 1., 1., 1.],\n",
              "       [1., 1., 1., 1., 1., 1., 1.],\n",
              "       [1., 1., 1., 1., 1., 1., 1.],\n",
              "       [1., 1., 1., 1., 1., 1., 1.],\n",
              "       [1., 1., 1., 1., 1., 1., 1.],\n",
              "       [1., 1., 1., 1., 1., 1., 1.],\n",
              "       [1., 1., 1., 1., 1., 1., 1.],\n",
              "       [1., 1., 1., 1., 1., 1., 1.]], dtype=float32)>"
            ]
          },
          "metadata": {},
          "execution_count": 44
        }
      ]
    },
    {
      "cell_type": "code",
      "source": [
        "tf.zeros(shape=(3, 4)) # all zeros"
      ],
      "metadata": {
        "colab": {
          "base_uri": "https://localhost:8080/"
        },
        "id": "SZwzgYWo78T6",
        "outputId": "97501349-fe9e-4573-aba3-b34e4e50fb97"
      },
      "execution_count": 48,
      "outputs": [
        {
          "output_type": "execute_result",
          "data": {
            "text/plain": [
              "<tf.Tensor: shape=(3, 4), dtype=float32, numpy=\n",
              "array([[0., 0., 0., 0.],\n",
              "       [0., 0., 0., 0.],\n",
              "       [0., 0., 0., 0.]], dtype=float32)>"
            ]
          },
          "metadata": {},
          "execution_count": 48
        }
      ]
    },
    {
      "cell_type": "markdown",
      "source": [
        "you can turn numpy arrays into tensorflow tensors"
      ],
      "metadata": {
        "id": "nzpk7erW8tX6"
      }
    },
    {
      "cell_type": "code",
      "source": [
        "import numpy as np\n",
        "numpy_A = np.arange(1 ,25, dtype=np.int32) # create numpy arrary between 1 and 25\n",
        "numpy_A\n",
        "\n",
        "# X = tf.constant(some_matrix)         capital for matrix or tensor\n",
        "# y = tf.constant(vector)              non-capital for vector\n",
        "\n"
      ],
      "metadata": {
        "colab": {
          "base_uri": "https://localhost:8080/"
        },
        "id": "IE5-E7be830_",
        "outputId": "1b74d2ca-b802-45c2-ba76-d70e41d86c99"
      },
      "execution_count": 49,
      "outputs": [
        {
          "output_type": "execute_result",
          "data": {
            "text/plain": [
              "array([ 1,  2,  3,  4,  5,  6,  7,  8,  9, 10, 11, 12, 13, 14, 15, 16, 17,\n",
              "       18, 19, 20, 21, 22, 23, 24], dtype=int32)"
            ]
          },
          "metadata": {},
          "execution_count": 49
        }
      ]
    },
    {
      "cell_type": "markdown",
      "source": [
        "then convert into a tensor"
      ],
      "metadata": {
        "id": "kPNN4g_Y_H-v"
      }
    },
    {
      "cell_type": "code",
      "source": [
        "A = tf.constant(numpy_A)\n",
        "A"
      ],
      "metadata": {
        "colab": {
          "base_uri": "https://localhost:8080/"
        },
        "id": "ID8_k6W-_U9c",
        "outputId": "7ecdbcde-cbd4-4008-bebd-bd406922c400"
      },
      "execution_count": 50,
      "outputs": [
        {
          "output_type": "execute_result",
          "data": {
            "text/plain": [
              "<tf.Tensor: shape=(24,), dtype=int32, numpy=\n",
              "array([ 1,  2,  3,  4,  5,  6,  7,  8,  9, 10, 11, 12, 13, 14, 15, 16, 17,\n",
              "       18, 19, 20, 21, 22, 23, 24], dtype=int32)>"
            ]
          },
          "metadata": {},
          "execution_count": 50
        }
      ]
    },
    {
      "cell_type": "markdown",
      "source": [
        "change the shape of the numpy arrary"
      ],
      "metadata": {
        "id": "t98YLQlM_6jp"
      }
    },
    {
      "cell_type": "code",
      "source": [
        "A = tf.constant(numpy_A, shape=(2, 3, 4))\n",
        "B = tf.constant(numpy_A)\n",
        "C = tf.constant(numpy_A, shape=(3, 4, 2))\n",
        "D = tf.constant(numpy_A, shape=(2, 2, 3, 2))\n",
        "E = tf.constant(numpy_A, shape=(2, 2, 2, 3))\n",
        "F = tf.constant(numpy_A, shape=(2, 12))\n",
        "A, B, C, D, E, F"
      ],
      "metadata": {
        "colab": {
          "base_uri": "https://localhost:8080/"
        },
        "id": "q_0UtC1hACQx",
        "outputId": "e8a8e57d-937f-48e2-ca39-661a0899821e"
      },
      "execution_count": 58,
      "outputs": [
        {
          "output_type": "execute_result",
          "data": {
            "text/plain": [
              "(<tf.Tensor: shape=(2, 3, 4), dtype=int32, numpy=\n",
              " array([[[ 1,  2,  3,  4],\n",
              "         [ 5,  6,  7,  8],\n",
              "         [ 9, 10, 11, 12]],\n",
              " \n",
              "        [[13, 14, 15, 16],\n",
              "         [17, 18, 19, 20],\n",
              "         [21, 22, 23, 24]]], dtype=int32)>,\n",
              " <tf.Tensor: shape=(24,), dtype=int32, numpy=\n",
              " array([ 1,  2,  3,  4,  5,  6,  7,  8,  9, 10, 11, 12, 13, 14, 15, 16, 17,\n",
              "        18, 19, 20, 21, 22, 23, 24], dtype=int32)>,\n",
              " <tf.Tensor: shape=(3, 4, 2), dtype=int32, numpy=\n",
              " array([[[ 1,  2],\n",
              "         [ 3,  4],\n",
              "         [ 5,  6],\n",
              "         [ 7,  8]],\n",
              " \n",
              "        [[ 9, 10],\n",
              "         [11, 12],\n",
              "         [13, 14],\n",
              "         [15, 16]],\n",
              " \n",
              "        [[17, 18],\n",
              "         [19, 20],\n",
              "         [21, 22],\n",
              "         [23, 24]]], dtype=int32)>,\n",
              " <tf.Tensor: shape=(2, 2, 3, 2), dtype=int32, numpy=\n",
              " array([[[[ 1,  2],\n",
              "          [ 3,  4],\n",
              "          [ 5,  6]],\n",
              " \n",
              "         [[ 7,  8],\n",
              "          [ 9, 10],\n",
              "          [11, 12]]],\n",
              " \n",
              " \n",
              "        [[[13, 14],\n",
              "          [15, 16],\n",
              "          [17, 18]],\n",
              " \n",
              "         [[19, 20],\n",
              "          [21, 22],\n",
              "          [23, 24]]]], dtype=int32)>,\n",
              " <tf.Tensor: shape=(2, 2, 2, 3), dtype=int32, numpy=\n",
              " array([[[[ 1,  2,  3],\n",
              "          [ 4,  5,  6]],\n",
              " \n",
              "         [[ 7,  8,  9],\n",
              "          [10, 11, 12]]],\n",
              " \n",
              " \n",
              "        [[[13, 14, 15],\n",
              "          [16, 17, 18]],\n",
              " \n",
              "         [[19, 20, 21],\n",
              "          [22, 23, 24]]]], dtype=int32)>,\n",
              " <tf.Tensor: shape=(2, 12), dtype=int32, numpy=\n",
              " array([[ 1,  2,  3,  4,  5,  6,  7,  8,  9, 10, 11, 12],\n",
              "        [13, 14, 15, 16, 17, 18, 19, 20, 21, 22, 23, 24]], dtype=int32)>)"
            ]
          },
          "metadata": {},
          "execution_count": 58
        }
      ]
    },
    {
      "cell_type": "markdown",
      "source": [
        "getting info about tensors\n",
        "\n",
        "such as these attributes =\n",
        "\n",
        "shape\n",
        "\n",
        "rank\n",
        "\n",
        "axis or dimension\n",
        "\n",
        "size"
      ],
      "metadata": {
        "id": "s0RLAdC3B68h"
      }
    },
    {
      "cell_type": "code",
      "source": [
        "rank_4_tensor = tf.zeros(shape=(2, 3, 4, 5)) # create a rank 4 tensor - four dimensions\n",
        "rank_4_tensor"
      ],
      "metadata": {
        "colab": {
          "base_uri": "https://localhost:8080/"
        },
        "id": "7vblaydCGge8",
        "outputId": "06e6cc4f-fb57-4f01-80cf-dad4ba8b8519"
      },
      "execution_count": 59,
      "outputs": [
        {
          "output_type": "execute_result",
          "data": {
            "text/plain": [
              "<tf.Tensor: shape=(2, 3, 4, 5), dtype=float32, numpy=\n",
              "array([[[[0., 0., 0., 0., 0.],\n",
              "         [0., 0., 0., 0., 0.],\n",
              "         [0., 0., 0., 0., 0.],\n",
              "         [0., 0., 0., 0., 0.]],\n",
              "\n",
              "        [[0., 0., 0., 0., 0.],\n",
              "         [0., 0., 0., 0., 0.],\n",
              "         [0., 0., 0., 0., 0.],\n",
              "         [0., 0., 0., 0., 0.]],\n",
              "\n",
              "        [[0., 0., 0., 0., 0.],\n",
              "         [0., 0., 0., 0., 0.],\n",
              "         [0., 0., 0., 0., 0.],\n",
              "         [0., 0., 0., 0., 0.]]],\n",
              "\n",
              "\n",
              "       [[[0., 0., 0., 0., 0.],\n",
              "         [0., 0., 0., 0., 0.],\n",
              "         [0., 0., 0., 0., 0.],\n",
              "         [0., 0., 0., 0., 0.]],\n",
              "\n",
              "        [[0., 0., 0., 0., 0.],\n",
              "         [0., 0., 0., 0., 0.],\n",
              "         [0., 0., 0., 0., 0.],\n",
              "         [0., 0., 0., 0., 0.]],\n",
              "\n",
              "        [[0., 0., 0., 0., 0.],\n",
              "         [0., 0., 0., 0., 0.],\n",
              "         [0., 0., 0., 0., 0.],\n",
              "         [0., 0., 0., 0., 0.]]]], dtype=float32)>"
            ]
          },
          "metadata": {},
          "execution_count": 59
        }
      ]
    },
    {
      "cell_type": "code",
      "source": [
        "rank_4_tensor[0]"
      ],
      "metadata": {
        "colab": {
          "base_uri": "https://localhost:8080/"
        },
        "id": "S5R3MZMAHpWd",
        "outputId": "5ffe8186-09b6-4cf1-cefc-2a89a1d64d07"
      },
      "execution_count": 60,
      "outputs": [
        {
          "output_type": "execute_result",
          "data": {
            "text/plain": [
              "<tf.Tensor: shape=(3, 4, 5), dtype=float32, numpy=\n",
              "array([[[0., 0., 0., 0., 0.],\n",
              "        [0., 0., 0., 0., 0.],\n",
              "        [0., 0., 0., 0., 0.],\n",
              "        [0., 0., 0., 0., 0.]],\n",
              "\n",
              "       [[0., 0., 0., 0., 0.],\n",
              "        [0., 0., 0., 0., 0.],\n",
              "        [0., 0., 0., 0., 0.],\n",
              "        [0., 0., 0., 0., 0.]],\n",
              "\n",
              "       [[0., 0., 0., 0., 0.],\n",
              "        [0., 0., 0., 0., 0.],\n",
              "        [0., 0., 0., 0., 0.],\n",
              "        [0., 0., 0., 0., 0.]]], dtype=float32)>"
            ]
          },
          "metadata": {},
          "execution_count": 60
        }
      ]
    },
    {
      "cell_type": "code",
      "source": [
        "rank_4_tensor.shape, rank_4_tensor.ndim, tf.size(rank_4_tensor)"
      ],
      "metadata": {
        "colab": {
          "base_uri": "https://localhost:8080/"
        },
        "id": "rtfOEXcYH-Ac",
        "outputId": "753b12fa-5b0d-4dfc-b98d-775f493445c6"
      },
      "execution_count": 61,
      "outputs": [
        {
          "output_type": "execute_result",
          "data": {
            "text/plain": [
              "(TensorShape([2, 3, 4, 5]), 4, <tf.Tensor: shape=(), dtype=int32, numpy=120>)"
            ]
          },
          "metadata": {},
          "execution_count": 61
        }
      ]
    },
    {
      "cell_type": "markdown",
      "source": [
        "get various attributes of our tensor"
      ],
      "metadata": {
        "id": "CfJURxPqI9Ih"
      }
    },
    {
      "cell_type": "code",
      "source": [
        "print(\"Datatype of every element: \", rank_4_tensor.dtype)\n",
        "print(\"Number of dimensions (rank): \", rank_4_tensor.ndim)\n",
        "print(\"Shape of tensor: \", rank_4_tensor.shape)\n",
        "print(\"Elements along 0 axis: \", rank_4_tensor.shape[0])\n",
        "print(\"Elements along last axis: \", rank_4_tensor.shape[-1])\n",
        "print(\"Total number of elements in tensor: \", tf.size(rank_4_tensor))\n",
        "print(\"Total number of elements in tensor (as numpy): \", tf.size(rank_4_tensor).numpy())"
      ],
      "metadata": {
        "colab": {
          "base_uri": "https://localhost:8080/"
        },
        "id": "1yLfb7vSJDqN",
        "outputId": "a90ec6ff-8b86-4bb0-ce7f-a358bd7337c2"
      },
      "execution_count": 65,
      "outputs": [
        {
          "output_type": "stream",
          "name": "stdout",
          "text": [
            "Datatype of every element:  <dtype: 'float32'>\n",
            "Number of dimensions (rank):  4\n",
            "Shape of tensor:  (2, 3, 4, 5)\n",
            "Elements along 0 axis:  2\n",
            "Elements along last axis:  5\n",
            "Total number of elements in tensor:  tf.Tensor(120, shape=(), dtype=int32)\n",
            "Total number of elements in tensor (as numpy):  120\n"
          ]
        }
      ]
    }
  ]
}